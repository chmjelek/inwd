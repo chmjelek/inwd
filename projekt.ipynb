{
 "cells": [
  {
   "cell_type": "code",
   "execution_count": null,
   "id": "717fb5c9",
   "metadata": {},
   "outputs": [],
   "source": [
    "import ast\n",
    "import pycountry\n",
    "\n",
    "import matplotlib.pyplot as plt\n",
    "import pandas as pd\n",
    "import numpy as np\n",
    "import plotly.express as px\n",
    "import seaborn as sns\n",
    "import plotly.graph_objects as go\n",
    "\n",
    "from matplotlib import colors\n",
    "from pycountry_convert import country_alpha2_to_continent_code\n",
    "from iso_language_codes import *\n",
    "\n",
    "import warnings\n",
    "warnings.filterwarnings('ignore')\n",
    "\n",
    "sns.set_style('whitegrid')\n",
    "sns.set(font_scale=1.25)"
   ]
  },
  {
   "cell_type": "code",
   "execution_count": null,
   "id": "5f8e73be",
   "metadata": {},
   "outputs": [],
   "source": [
    "# wczytanie danych\n",
    "df = pd.read_csv('data/movies_metadata.csv')\n",
    "print(df.shape)\n",
    "df.head()"
   ]
  },
  {
   "cell_type": "code",
   "execution_count": null,
   "id": "f3c0012a",
   "metadata": {},
   "outputs": [],
   "source": [
    "df.info()"
   ]
  },
  {
   "cell_type": "markdown",
   "id": "6a29575f",
   "metadata": {},
   "source": [
    "Tylko w kolumnach `belongs_to_collection`, `homepage` oraz `tagline` występują brakujące wartości."
   ]
  },
  {
   "cell_type": "markdown",
   "id": "9d0e9897",
   "metadata": {},
   "source": [
    "## Kraj produkcji i język"
   ]
  },
  {
   "cell_type": "markdown",
   "id": "09be7884",
   "metadata": {},
   "source": [
    "Domyślamy się, że większość filmów jest w języku angielskim, jednakże, filmy te mogłby być kręcone w różnych miejscach na świecie.\n",
    "\n",
    "Interesujące byłoby sprawdzenie, które kraje są najpopularniejszymi miejscami kręcenia filmów oraz w jakich językach się najczęściej mówi."
   ]
  },
  {
   "cell_type": "code",
   "execution_count": null,
   "id": "feb71888",
   "metadata": {},
   "outputs": [],
   "source": [
    "# przykładowy kraj produkcji\n",
    "\n",
    "df['production_countries'].loc[0]"
   ]
  },
  {
   "cell_type": "markdown",
   "id": "828c0f39",
   "metadata": {},
   "source": [
    "String z listą z JSONem"
   ]
  },
  {
   "cell_type": "code",
   "execution_count": null,
   "id": "b29f4c16",
   "metadata": {},
   "outputs": [],
   "source": [
    "# ile rekordów nie ma kraju produkcji\n",
    "\n",
    "df['production_countries'].isna().sum()"
   ]
  },
  {
   "cell_type": "code",
   "execution_count": null,
   "id": "11513dc9",
   "metadata": {},
   "outputs": [],
   "source": [
    "# uzupełniamy brakujące wartości pustą listą, używamy ast.literval_eval bo lista jest w stringu\n",
    "df['production_countries'] = df['production_countries'].fillna('[]').apply(ast.literal_eval)\n",
    "\n",
    "# wyciągamy wartość 'name' z kolumny z krajem produkcji\n",
    "df['production_countries'] = df['production_countries'].apply(lambda x: [i['name'] for i in x] if isinstance(x, list) else [])"
   ]
  },
  {
   "cell_type": "code",
   "execution_count": null,
   "id": "0bd85736",
   "metadata": {},
   "outputs": [],
   "source": [
    "# przykład\n",
    "\n",
    "df['production_countries'].loc[0]"
   ]
  },
  {
   "cell_type": "code",
   "execution_count": null,
   "id": "1e6f960d",
   "metadata": {},
   "outputs": [],
   "source": [
    "# istnieją także przypadki w których film jest tworzony w kilku krajach\n",
    "\n",
    "df['production_countries'].loc[6]"
   ]
  },
  {
   "cell_type": "code",
   "execution_count": null,
   "id": "d497d3ad",
   "metadata": {},
   "outputs": [],
   "source": [
    "# przekształć każdy element listy w wiersz, replikując wartości indeksów\n",
    "\n",
    "prod_count = df['production_countries'].explode()\n",
    "prod_count = pd.DataFrame({'kraj': prod_count.value_counts().index,\n",
    "                           'liczba filmów': prod_count.value_counts().values}).reset_index(drop=True)\n",
    "\n",
    "# zamiana nieistniejących już krajów; zamiana nazw nieczytelnych dla formatu alpha2\n",
    "prod_count.loc[prod_count.kraj == \"United States of America\", \"kraj\"] = \"USA\"\n",
    "prod_count.loc[prod_count.kraj == \"Soviet Union\", \"kraj\"] = \"Russia\"\n",
    "prod_count.loc[prod_count.kraj == \"East Germany\", \"kraj\"] = \"Germany\"\n",
    "prod_count.loc[prod_count.kraj == \"Cote D'Ivoire\", \"kraj\"] = \"Côte d'Ivoire\"\n",
    "prod_count.loc[prod_count.kraj == \"French Southern Territories\", \"kraj\"] = \"France\"\n",
    "prod_count.loc[prod_count.kraj == \"United States Minor Outlying Islands\", \"kraj\"] = \"USA\"\n",
    "prod_count.loc[prod_count.kraj == \"Libyan Arab Jamahiriya\", \"kraj\"] = \"Libya\"\n",
    "prod_count.loc[prod_count.kraj == \"Serbia and Montenegro\", \"kraj\"] = \"Serbia\"\n",
    "prod_count.loc[prod_count.kraj == \"Yugoslavia\", \"kraj\"] = \"Serbia\"\n",
    "prod_count.loc[prod_count.kraj == \"Netherlands Antilles\", \"kraj\"] = \"Netherlands\"\n",
    "prod_count.loc[prod_count.kraj == \"Czechoslovakia\", \"kraj\"] = \"Czech Republic\"\n",
    "prod_count.loc[prod_count.kraj == \"Kyrgyz Republic\", \"kraj\"] = \"Kyrgyzstan\"\n",
    "prod_count.loc[prod_count.kraj == \"Macedonia\", \"kraj\"] = \"North Macedonia\"\n",
    "prod_count.loc[prod_count.kraj == \"Palestinian Territory\", \"kraj\"] = \"Palestine\"\n",
    "\n",
    "# dodawanie duplikatów (Russia + Soviet Union po zamienieniu)\n",
    "prod_count = prod_count.groupby(['kraj'], as_index=False).agg({'liczba filmów': 'sum'})"
   ]
  },
  {
   "cell_type": "code",
   "execution_count": null,
   "id": "961529ec",
   "metadata": {},
   "outputs": [],
   "source": [
    "# tworzenie kodu notacji alpha2 z nazwy państwa\n",
    "input_countries = prod_count['kraj']\n",
    "countries = {}\n",
    "for country in pycountry.countries:\n",
    "    countries[country.name] = country.alpha_2\n",
    "codes = [countries.get(country, 'Unknown code') for country in input_countries]\n",
    "prod_count['code'] = codes\n",
    "\n",
    "# zamiana alpha2 na kontynent dla tych krajów, które mają alpha2\n",
    "with_alpha2 = prod_count[~prod_count['code'].isin(['AQ', 'Unknown code'])]\n",
    "with_alpha2['continent'] = [country_alpha2_to_continent_code(code) for code in with_alpha2['code']]\n",
    "\n",
    "# zamiana alpha2 na kontynent dla tych krajów, które go nie mają\n",
    "without_alpha2 = prod_count[prod_count['code'].isin(['AQ', 'Unknown code'])]\n",
    "\n",
    "without_alpha2.loc[without_alpha2.kraj.isin(['Antarctica']), 'continent'] = 'AQ'\n",
    "without_alpha2.loc[without_alpha2.kraj.isin(['Bolivia', 'Venezuela']), 'continent'] = 'SA'\n",
    "without_alpha2.loc[without_alpha2.kraj.isin(['Czech Republic', 'Moldova', '']), 'continent'] = 'EU'\n",
    "without_alpha2.loc[without_alpha2.kraj.isin(['Iran', 'North Korea', 'Palestine', 'Russia', 'South Korea', 'Taiwan', 'Vietnam']), 'continent'] = 'AS'\n",
    "without_alpha2.loc[without_alpha2.kraj.isin(['Tanzania']), 'continent'] = 'AF'\n",
    "without_alpha2.loc[without_alpha2.kraj.isin(['USA']), 'continent'] = 'NA'\n",
    "\n",
    "# połączenie\n",
    "prod_count = pd.concat([with_alpha2, without_alpha2]).sort_index()"
   ]
  },
  {
   "cell_type": "code",
   "execution_count": null,
   "id": "2545e02c",
   "metadata": {},
   "outputs": [],
   "source": [
    "# mapowanie skrótu na pełną nazwę\n",
    "\n",
    "continents = {\n",
    "    'AS': 'Asia',\n",
    "    'NA': 'North America',\n",
    "    'SA': 'South America', \n",
    "    'OC': 'Australia',\n",
    "    'AF': 'Africa',\n",
    "    'EU': 'Europe',\n",
    "    'AQ': 'Antartica'\n",
    "}\n",
    "\n",
    "prod_count['continent'] = prod_count['continent'].map(continents)"
   ]
  },
  {
   "cell_type": "code",
   "execution_count": null,
   "id": "f3750818",
   "metadata": {},
   "outputs": [],
   "source": [
    "print(prod_count.to_string(index=False))"
   ]
  },
  {
   "cell_type": "code",
   "execution_count": null,
   "id": "f065ca34",
   "metadata": {},
   "outputs": [],
   "source": [
    "fig = px.sunburst(prod_count, path=['continent', 'kraj'], values='liczba filmów',\n",
    "                  color='continent',\n",
    "                  color_continuous_scale='RdBu',\n",
    "                  labels={\"parent\": \"parent\"})\n",
    "\n",
    "fig.update_traces(\n",
    "        go.Sunburst(hovertemplate='<b>%{label} </b> <br>Liczba filmów: %{value}'),\n",
    "        insidetextorientation='radial',       \n",
    "    )\n",
    "\n",
    "fig.show()"
   ]
  },
  {
   "cell_type": "code",
   "execution_count": null,
   "id": "1f4a24cd",
   "metadata": {},
   "outputs": [],
   "source": [
    "# błędy w języku\n",
    "df = df.drop(df[df.original_language.isin(['104.0', '68.0', '82.0', 'xx'])].index)\n",
    "df = df.drop(df[df.original_language.isna()].index)\n",
    "\n",
    "# liczba unikalnych języków\n",
    "uni_lang = pd.DataFrame(df['original_language'].drop_duplicates().unique())\n",
    "uni_lang[uni_lang == 'cn'] = 'zh'\n",
    "print('\\nJest {} różnych języków.'.format(len(uni_lang)))"
   ]
  },
  {
   "cell_type": "code",
   "execution_count": null,
   "id": "f35626f6",
   "metadata": {},
   "outputs": [],
   "source": [
    "# dataframe z zagregowanymi wartoścami\n",
    "lang_df = df['original_language'].value_counts().rename_axis('lang_code').reset_index(name='counts')\n",
    "\n",
    "# mandarin to chinese\n",
    "lang_df.loc[lang_df.lang_code == \"cn\", \"lang_code\"] = \"zh\"\n",
    "lang_df = lang_df.groupby(['lang_code'], as_index=False).agg({'counts': 'sum'})\n",
    "\n",
    "# zamiana skrótu na język\n",
    "lang_df['language'] = lang_df['lang_code'].apply(lambda x: language(x)['Name'])\n",
    "lang_df = lang_df.sort_values(by=['counts'], ascending=False)"
   ]
  },
  {
   "cell_type": "code",
   "execution_count": null,
   "id": "f85bcad9",
   "metadata": {},
   "outputs": [],
   "source": [
    "plt.figure(figsize=(12,5))\n",
    "s = sns.barplot(x='language', y='counts', data=lang_df.iloc[1:11])\n",
    "s.set(xlabel='Język', ylabel='Liczba filmów')\n",
    "plt.show()"
   ]
  },
  {
   "cell_type": "code",
   "execution_count": null,
   "id": "6265d2e7",
   "metadata": {},
   "outputs": [],
   "source": []
  }
 ],
 "metadata": {
  "kernelspec": {
   "display_name": "Python 3",
   "language": "python",
   "name": "python3"
  },
  "language_info": {
   "codemirror_mode": {
    "name": "ipython",
    "version": 3
   },
   "file_extension": ".py",
   "mimetype": "text/x-python",
   "name": "python",
   "nbconvert_exporter": "python",
   "pygments_lexer": "ipython3",
   "version": "3.8.9"
  },
  "toc": {
   "base_numbering": 1,
   "nav_menu": {},
   "number_sections": false,
   "sideBar": true,
   "skip_h1_title": true,
   "title_cell": "Table of Contents",
   "title_sidebar": "Contents",
   "toc_cell": false,
   "toc_position": {},
   "toc_section_display": true,
   "toc_window_display": false
  }
 },
 "nbformat": 4,
 "nbformat_minor": 5
}
